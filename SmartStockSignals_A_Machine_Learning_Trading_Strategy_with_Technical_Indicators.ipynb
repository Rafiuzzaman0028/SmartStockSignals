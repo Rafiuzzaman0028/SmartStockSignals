{
  "nbformat": 4,
  "nbformat_minor": 0,
  "metadata": {
    "colab": {
      "provenance": []
    },
    "kernelspec": {
      "name": "python3",
      "display_name": "Python 3"
    },
    "language_info": {
      "name": "python"
    }
  },
  "cells": [
    {
      "cell_type": "code",
      "execution_count": 1,
      "metadata": {
        "colab": {
          "base_uri": "https://localhost:8080/"
        },
        "id": "xDjSqHa95SO9",
        "outputId": "d958285a-ccfb-49cb-bcf1-8577cab583f6"
      },
      "outputs": [
        {
          "output_type": "stream",
          "name": "stdout",
          "text": [
            "Requirement already satisfied: pandas in /usr/local/lib/python3.11/dist-packages (2.2.2)\n",
            "Requirement already satisfied: numpy in /usr/local/lib/python3.11/dist-packages (2.0.2)\n",
            "Requirement already satisfied: matplotlib in /usr/local/lib/python3.11/dist-packages (3.10.0)\n",
            "Requirement already satisfied: scikit-learn in /usr/local/lib/python3.11/dist-packages (1.6.1)\n",
            "Requirement already satisfied: yfinance in /usr/local/lib/python3.11/dist-packages (0.2.65)\n",
            "Requirement already satisfied: tensorflow in /usr/local/lib/python3.11/dist-packages (2.18.0)\n",
            "Requirement already satisfied: python-dateutil>=2.8.2 in /usr/local/lib/python3.11/dist-packages (from pandas) (2.9.0.post0)\n",
            "Requirement already satisfied: pytz>=2020.1 in /usr/local/lib/python3.11/dist-packages (from pandas) (2025.2)\n",
            "Requirement already satisfied: tzdata>=2022.7 in /usr/local/lib/python3.11/dist-packages (from pandas) (2025.2)\n",
            "Requirement already satisfied: contourpy>=1.0.1 in /usr/local/lib/python3.11/dist-packages (from matplotlib) (1.3.2)\n",
            "Requirement already satisfied: cycler>=0.10 in /usr/local/lib/python3.11/dist-packages (from matplotlib) (0.12.1)\n",
            "Requirement already satisfied: fonttools>=4.22.0 in /usr/local/lib/python3.11/dist-packages (from matplotlib) (4.59.0)\n",
            "Requirement already satisfied: kiwisolver>=1.3.1 in /usr/local/lib/python3.11/dist-packages (from matplotlib) (1.4.8)\n",
            "Requirement already satisfied: packaging>=20.0 in /usr/local/lib/python3.11/dist-packages (from matplotlib) (25.0)\n",
            "Requirement already satisfied: pillow>=8 in /usr/local/lib/python3.11/dist-packages (from matplotlib) (11.3.0)\n",
            "Requirement already satisfied: pyparsing>=2.3.1 in /usr/local/lib/python3.11/dist-packages (from matplotlib) (3.2.3)\n",
            "Requirement already satisfied: scipy>=1.6.0 in /usr/local/lib/python3.11/dist-packages (from scikit-learn) (1.16.0)\n",
            "Requirement already satisfied: joblib>=1.2.0 in /usr/local/lib/python3.11/dist-packages (from scikit-learn) (1.5.1)\n",
            "Requirement already satisfied: threadpoolctl>=3.1.0 in /usr/local/lib/python3.11/dist-packages (from scikit-learn) (3.6.0)\n",
            "Requirement already satisfied: requests>=2.31 in /usr/local/lib/python3.11/dist-packages (from yfinance) (2.32.3)\n",
            "Requirement already satisfied: multitasking>=0.0.7 in /usr/local/lib/python3.11/dist-packages (from yfinance) (0.0.12)\n",
            "Requirement already satisfied: platformdirs>=2.0.0 in /usr/local/lib/python3.11/dist-packages (from yfinance) (4.3.8)\n",
            "Requirement already satisfied: frozendict>=2.3.4 in /usr/local/lib/python3.11/dist-packages (from yfinance) (2.4.6)\n",
            "Requirement already satisfied: peewee>=3.16.2 in /usr/local/lib/python3.11/dist-packages (from yfinance) (3.18.2)\n",
            "Requirement already satisfied: beautifulsoup4>=4.11.1 in /usr/local/lib/python3.11/dist-packages (from yfinance) (4.13.4)\n",
            "Requirement already satisfied: curl_cffi>=0.7 in /usr/local/lib/python3.11/dist-packages (from yfinance) (0.12.0)\n",
            "Requirement already satisfied: protobuf>=3.19.0 in /usr/local/lib/python3.11/dist-packages (from yfinance) (5.29.5)\n",
            "Requirement already satisfied: websockets>=13.0 in /usr/local/lib/python3.11/dist-packages (from yfinance) (15.0.1)\n",
            "Requirement already satisfied: absl-py>=1.0.0 in /usr/local/lib/python3.11/dist-packages (from tensorflow) (1.4.0)\n",
            "Requirement already satisfied: astunparse>=1.6.0 in /usr/local/lib/python3.11/dist-packages (from tensorflow) (1.6.3)\n",
            "Requirement already satisfied: flatbuffers>=24.3.25 in /usr/local/lib/python3.11/dist-packages (from tensorflow) (25.2.10)\n",
            "Requirement already satisfied: gast!=0.5.0,!=0.5.1,!=0.5.2,>=0.2.1 in /usr/local/lib/python3.11/dist-packages (from tensorflow) (0.6.0)\n",
            "Requirement already satisfied: google-pasta>=0.1.1 in /usr/local/lib/python3.11/dist-packages (from tensorflow) (0.2.0)\n",
            "Requirement already satisfied: libclang>=13.0.0 in /usr/local/lib/python3.11/dist-packages (from tensorflow) (18.1.1)\n",
            "Requirement already satisfied: opt-einsum>=2.3.2 in /usr/local/lib/python3.11/dist-packages (from tensorflow) (3.4.0)\n",
            "Requirement already satisfied: setuptools in /usr/local/lib/python3.11/dist-packages (from tensorflow) (75.2.0)\n",
            "Requirement already satisfied: six>=1.12.0 in /usr/local/lib/python3.11/dist-packages (from tensorflow) (1.17.0)\n",
            "Requirement already satisfied: termcolor>=1.1.0 in /usr/local/lib/python3.11/dist-packages (from tensorflow) (3.1.0)\n",
            "Requirement already satisfied: typing-extensions>=3.6.6 in /usr/local/lib/python3.11/dist-packages (from tensorflow) (4.14.1)\n",
            "Requirement already satisfied: wrapt>=1.11.0 in /usr/local/lib/python3.11/dist-packages (from tensorflow) (1.17.2)\n",
            "Requirement already satisfied: grpcio<2.0,>=1.24.3 in /usr/local/lib/python3.11/dist-packages (from tensorflow) (1.74.0)\n",
            "Requirement already satisfied: tensorboard<2.19,>=2.18 in /usr/local/lib/python3.11/dist-packages (from tensorflow) (2.18.0)\n",
            "Requirement already satisfied: keras>=3.5.0 in /usr/local/lib/python3.11/dist-packages (from tensorflow) (3.8.0)\n",
            "Requirement already satisfied: h5py>=3.11.0 in /usr/local/lib/python3.11/dist-packages (from tensorflow) (3.14.0)\n",
            "Requirement already satisfied: ml-dtypes<0.5.0,>=0.4.0 in /usr/local/lib/python3.11/dist-packages (from tensorflow) (0.4.1)\n",
            "Requirement already satisfied: tensorflow-io-gcs-filesystem>=0.23.1 in /usr/local/lib/python3.11/dist-packages (from tensorflow) (0.37.1)\n",
            "Requirement already satisfied: wheel<1.0,>=0.23.0 in /usr/local/lib/python3.11/dist-packages (from astunparse>=1.6.0->tensorflow) (0.45.1)\n",
            "Requirement already satisfied: soupsieve>1.2 in /usr/local/lib/python3.11/dist-packages (from beautifulsoup4>=4.11.1->yfinance) (2.7)\n",
            "Requirement already satisfied: cffi>=1.12.0 in /usr/local/lib/python3.11/dist-packages (from curl_cffi>=0.7->yfinance) (1.17.1)\n",
            "Requirement already satisfied: certifi>=2024.2.2 in /usr/local/lib/python3.11/dist-packages (from curl_cffi>=0.7->yfinance) (2025.7.14)\n",
            "Requirement already satisfied: rich in /usr/local/lib/python3.11/dist-packages (from keras>=3.5.0->tensorflow) (13.9.4)\n",
            "Requirement already satisfied: namex in /usr/local/lib/python3.11/dist-packages (from keras>=3.5.0->tensorflow) (0.1.0)\n",
            "Requirement already satisfied: optree in /usr/local/lib/python3.11/dist-packages (from keras>=3.5.0->tensorflow) (0.17.0)\n",
            "Requirement already satisfied: charset-normalizer<4,>=2 in /usr/local/lib/python3.11/dist-packages (from requests>=2.31->yfinance) (3.4.2)\n",
            "Requirement already satisfied: idna<4,>=2.5 in /usr/local/lib/python3.11/dist-packages (from requests>=2.31->yfinance) (3.10)\n",
            "Requirement already satisfied: urllib3<3,>=1.21.1 in /usr/local/lib/python3.11/dist-packages (from requests>=2.31->yfinance) (2.5.0)\n",
            "Requirement already satisfied: markdown>=2.6.8 in /usr/local/lib/python3.11/dist-packages (from tensorboard<2.19,>=2.18->tensorflow) (3.8.2)\n",
            "Requirement already satisfied: tensorboard-data-server<0.8.0,>=0.7.0 in /usr/local/lib/python3.11/dist-packages (from tensorboard<2.19,>=2.18->tensorflow) (0.7.2)\n",
            "Requirement already satisfied: werkzeug>=1.0.1 in /usr/local/lib/python3.11/dist-packages (from tensorboard<2.19,>=2.18->tensorflow) (3.1.3)\n",
            "Requirement already satisfied: pycparser in /usr/local/lib/python3.11/dist-packages (from cffi>=1.12.0->curl_cffi>=0.7->yfinance) (2.22)\n",
            "Requirement already satisfied: MarkupSafe>=2.1.1 in /usr/local/lib/python3.11/dist-packages (from werkzeug>=1.0.1->tensorboard<2.19,>=2.18->tensorflow) (3.0.2)\n",
            "Requirement already satisfied: markdown-it-py>=2.2.0 in /usr/local/lib/python3.11/dist-packages (from rich->keras>=3.5.0->tensorflow) (3.0.0)\n",
            "Requirement already satisfied: pygments<3.0.0,>=2.13.0 in /usr/local/lib/python3.11/dist-packages (from rich->keras>=3.5.0->tensorflow) (2.19.2)\n",
            "Requirement already satisfied: mdurl~=0.1 in /usr/local/lib/python3.11/dist-packages (from markdown-it-py>=2.2.0->rich->keras>=3.5.0->tensorflow) (0.1.2)\n"
          ]
        }
      ],
      "source": [
        "pip install pandas numpy matplotlib scikit-learn yfinance tensorflow\n"
      ]
    },
    {
      "cell_type": "code",
      "source": [
        "# 📌 Step 1: Import Libraries\n",
        "import numpy as np\n",
        "import pandas as pd\n",
        "import yfinance as yf\n",
        "import matplotlib.pyplot as plt\n",
        "from sklearn.preprocessing import StandardScaler\n",
        "from sklearn.metrics import classification_report, confusion_matrix\n",
        "import tensorflow as tf\n",
        "from tensorflow.keras.models import Sequential\n",
        "from tensorflow.keras.layers import LSTM, Dense, Dropout"
      ],
      "metadata": {
        "id": "Qjmr66Y45Vi2"
      },
      "execution_count": 2,
      "outputs": []
    },
    {
      "cell_type": "code",
      "source": [
        "# 📌 Step 2: Download Stock Data\n",
        "ticker = 'AAPL'\n",
        "df = yf.download(ticker, start='2015-01-01', end='2025-07-30')"
      ],
      "metadata": {
        "colab": {
          "base_uri": "https://localhost:8080/"
        },
        "id": "vQ48lWeI5YyU",
        "outputId": "c5d8bdd7-1552-4a7e-a38e-4fbb0758df36"
      },
      "execution_count": 6,
      "outputs": [
        {
          "output_type": "stream",
          "name": "stderr",
          "text": [
            "/tmp/ipython-input-6-2289118379.py:3: FutureWarning: YF.download() has changed argument auto_adjust default to True\n",
            "  df = yf.download(ticker, start='2015-01-01', end='2025-07-30')\n",
            "[*********************100%***********************]  1 of 1 completed\n"
          ]
        }
      ]
    },
    {
      "cell_type": "code",
      "source": [
        "# 📌 Step 3: Add Technical Indicators\n",
        "def compute_rsi(series, period=14):\n",
        "    delta = series.diff()\n",
        "    gain = delta.clip(lower=0)\n",
        "    loss = -delta.clip(upper=0)\n",
        "    avg_gain = gain.rolling(window=period).mean()\n",
        "    avg_loss = loss.rolling(window=period).mean()\n",
        "    rs = avg_gain / avg_loss\n",
        "    rsi = 100 - (100 / (1 + rs))\n",
        "    return rsi\n",
        "\n",
        "def compute_macd(price):\n",
        "    ema12 = price.ewm(span=12).mean()\n",
        "    ema26 = price.ewm(span=26).mean()\n",
        "    macd = ema12 - ema26\n",
        "    signal = macd.ewm(span=9).mean()\n",
        "    return macd, signal\n",
        "\n",
        "df['Return'] = df['Close'].pct_change()\n",
        "df['SMA_10'] = df['Close'].rolling(10).mean()\n",
        "df['SMA_50'] = df['Close'].rolling(50).mean()\n",
        "df['RSI'] = compute_rsi(df['Close'])\n",
        "df['MACD'], df['MACD_signal'] = compute_macd(df['Close'])"
      ],
      "metadata": {
        "id": "0ZmzZtry5Y2i"
      },
      "execution_count": 7,
      "outputs": []
    },
    {
      "cell_type": "code",
      "source": [
        "import yfinance as yf\n",
        "import pandas as pd\n",
        "import numpy as np\n",
        "from sklearn.preprocessing import StandardScaler\n",
        "\n",
        "# Step 1: Download historical stock data using yfinance\n",
        "ticker = 'AAPL'  # You can change this to any valid stock symbol\n",
        "start_date = '2020-01-01'\n",
        "end_date = '2024-12-31'\n",
        "\n",
        "df = yf.download(ticker, start=start_date, end=end_date)\n",
        "df.reset_index(inplace=True)\n",
        "\n",
        "# Step 2: Feature Engineering\n",
        "\n",
        "# Daily Return\n",
        "df['Return'] = df['Close'].pct_change()\n",
        "\n",
        "# Simple Moving Averages\n",
        "df['SMA_10'] = df['Close'].rolling(window=10).mean()\n",
        "df['SMA_50'] = df['Close'].rolling(window=50).mean()\n",
        "\n",
        "# RSI (Relative Strength Index)\n",
        "def compute_rsi(series, period=14):\n",
        "    delta = series.diff()\n",
        "    gain = delta.clip(lower=0)\n",
        "    loss = -delta.clip(upper=0)\n",
        "    avg_gain = gain.rolling(window=period).mean()\n",
        "    avg_loss = loss.rolling(window=period).mean()\n",
        "    rs = avg_gain / avg_loss\n",
        "    return 100 - (100 / (1 + rs))\n",
        "\n",
        "df['RSI'] = compute_rsi(df['Close'])\n",
        "\n",
        "# MACD and MACD Signal\n",
        "ema12 = df['Close'].ewm(span=12, adjust=False).mean()\n",
        "ema26 = df['Close'].ewm(span=26, adjust=False).mean()\n",
        "df['MACD'] = ema12 - ema26\n",
        "df['MACD_signal'] = df['MACD'].ewm(span=9, adjust=False).mean()\n",
        "\n",
        "# Future Close price (next day's close)\n",
        "df['Future_Close'] = df['Close'].shift(-1)\n",
        "\n",
        "# Step 3: Drop rows with NaNs in any feature column\n",
        "feature_cols = ['Return', 'SMA_10', 'SMA_50', 'RSI', 'MACD', 'MACD_signal', 'Future_Close']\n",
        "#df.dropna(subset=feature_cols, inplace=True)\n",
        "df.reset_index(drop=True, inplace=True)\n",
        "\n",
        "# Step 4: Scale Features\n",
        "features = ['Return', 'SMA_10', 'SMA_50', 'RSI', 'MACD', 'MACD_signal']\n",
        "scaler = StandardScaler()\n",
        "scaled_features = scaler.fit_transform(df[features])\n",
        "\n",
        "# Step 5: Create final dataframe with scaled features and target\n",
        "scaled_df = pd.DataFrame(scaled_features, columns=features)\n",
        "scaled_df['Future_Close'] = df['Future_Close'].values\n",
        "\n",
        "# Step 6: Output preview\n",
        "print(scaled_df.head())\n"
      ],
      "metadata": {
        "colab": {
          "base_uri": "https://localhost:8080/"
        },
        "id": "BI-RYKtwEgOE",
        "outputId": "759f0039-5951-4865-9261-c2f9b14adfbe"
      },
      "execution_count": 41,
      "outputs": [
        {
          "output_type": "stream",
          "name": "stderr",
          "text": [
            "/tmp/ipython-input-41-549812206.py:11: FutureWarning: YF.download() has changed argument auto_adjust default to True\n",
            "  df = yf.download(ticker, start=start_date, end=end_date)\n",
            "\r[*********************100%***********************]  1 of 1 completed"
          ]
        },
        {
          "output_type": "stream",
          "name": "stdout",
          "text": [
            "     Return  SMA_10  SMA_50  RSI      MACD  MACD_signal  Future_Close\n",
            "0       NaN     NaN     NaN  NaN -0.339581    -0.357112     71.914818\n",
            "1 -0.546781     NaN     NaN  NaN -0.359903    -0.361470     72.487854\n",
            "2  0.339756     NaN     NaN  NaN -0.359099    -0.364784     72.146919\n",
            "3 -0.295275     NaN     NaN  NaN -0.368060    -0.369357     73.307510\n",
            "4  0.746597     NaN     NaN  NaN -0.341350    -0.367287     74.864616\n"
          ]
        },
        {
          "output_type": "stream",
          "name": "stderr",
          "text": [
            "\n"
          ]
        }
      ]
    },
    {
      "cell_type": "code",
      "source": [
        "print(\"Columns in df:\", df.columns.tolist())\n",
        "\n",
        "expected_cols = ['Return', 'SMA_10', 'SMA_50', 'RSI', 'MACD', 'MACD_signal', 'Future_Close']\n",
        "missing_cols = [col for col in expected_cols if col not in df.columns]\n",
        "print(\"Missing columns:\", missing_cols)\n",
        "\n"
      ],
      "metadata": {
        "colab": {
          "base_uri": "https://localhost:8080/"
        },
        "id": "6KJ5cUWhDD6w",
        "outputId": "17fd3424-f8ce-42cd-f282-89a1c8bc6a79"
      },
      "execution_count": 42,
      "outputs": [
        {
          "output_type": "stream",
          "name": "stdout",
          "text": [
            "Columns in df: [('Date', ''), ('Close', 'AAPL'), ('High', 'AAPL'), ('Low', 'AAPL'), ('Open', 'AAPL'), ('Volume', 'AAPL'), ('Return', ''), ('SMA_10', ''), ('SMA_50', ''), ('RSI', ''), ('MACD', ''), ('MACD_signal', ''), ('Future_Close', '')]\n",
            "Missing columns: []\n"
          ]
        }
      ]
    },
    {
      "cell_type": "code",
      "source": [
        "for col in expected_cols:\n",
        "    assert col in df.columns, f\"Missing expected column: {col}\"\n"
      ],
      "metadata": {
        "id": "lnY556f1F8kD"
      },
      "execution_count": 43,
      "outputs": []
    },
    {
      "cell_type": "code",
      "source": [
        "print(f\"Number of rows before scaling: {len(df)}\")\n",
        "print(df[features].isnull().sum())  # Check if columns have NaNs\n",
        "print(df[features].head())\n"
      ],
      "metadata": {
        "colab": {
          "base_uri": "https://localhost:8080/"
        },
        "id": "MTR_SlGJDHNG",
        "outputId": "9cfcbb58-5b0b-46cc-dc77-bc3796192647"
      },
      "execution_count": 44,
      "outputs": [
        {
          "output_type": "stream",
          "name": "stdout",
          "text": [
            "Number of rows before scaling: 1257\n",
            "Price        Ticker\n",
            "Return                  1\n",
            "SMA_10                  9\n",
            "SMA_50                 49\n",
            "RSI                    14\n",
            "MACD                    0\n",
            "MACD_signal             0\n",
            "dtype: int64\n",
            "Price     Return SMA_10 SMA_50 RSI      MACD MACD_signal\n",
            "Ticker                                                  \n",
            "0            NaN    NaN    NaN NaN  0.000000    0.000000\n",
            "1      -0.009722    NaN    NaN NaN -0.056320   -0.011264\n",
            "2       0.007968    NaN    NaN NaN -0.054092   -0.019830\n",
            "3      -0.004703    NaN    NaN NaN -0.078927   -0.031649\n",
            "4       0.016086    NaN    NaN NaN -0.004902   -0.026300\n"
          ]
        }
      ]
    },
    {
      "cell_type": "code",
      "source": [
        "print(\"Rows with any NaN in features:\", df[features].isnull().any(axis=1).sum())\n"
      ],
      "metadata": {
        "colab": {
          "base_uri": "https://localhost:8080/"
        },
        "id": "Rny48LBwGVQZ",
        "outputId": "b7368037-94da-4fc6-d699-134ad51ef8f3"
      },
      "execution_count": 45,
      "outputs": [
        {
          "output_type": "stream",
          "name": "stdout",
          "text": [
            "Rows with any NaN in features: 49\n"
          ]
        }
      ]
    },
    {
      "cell_type": "code",
      "source": [
        "df.fillna(method='ffill', inplace=True)  # forward fill\n",
        "# or\n",
        "df.fillna(df.mean(), inplace=True)  # fill numeric NaNs with mean\n"
      ],
      "metadata": {
        "colab": {
          "base_uri": "https://localhost:8080/"
        },
        "id": "hq4FIq7GGcZH",
        "outputId": "745de4c1-df22-40ec-8024-0c2935c02559"
      },
      "execution_count": 46,
      "outputs": [
        {
          "output_type": "stream",
          "name": "stderr",
          "text": [
            "/tmp/ipython-input-46-2385214881.py:1: FutureWarning: DataFrame.fillna with 'method' is deprecated and will raise in a future version. Use obj.ffill() or obj.bfill() instead.\n",
            "  df.fillna(method='ffill', inplace=True)  # forward fill\n"
          ]
        }
      ]
    },
    {
      "cell_type": "code",
      "source": [
        "features = ['Return', 'SMA_10', 'SMA_50', 'RSI', 'MACD', 'MACD_signal']\n",
        "\n",
        "print(\"DataFrame shape:\", df.shape)\n",
        "print(\"Columns available:\", df.columns.tolist())\n",
        "\n",
        "# Check if feature columns exist\n",
        "missing = [f for f in features if f not in df.columns]\n",
        "print(\"Missing features:\", missing)\n",
        "\n",
        "# Check rows and nulls in those columns\n",
        "print(\"Number of rows with no NaNs in features:\", df[features].dropna().shape[0])\n",
        "\n",
        "print(df[features].head())\n"
      ],
      "metadata": {
        "colab": {
          "base_uri": "https://localhost:8080/"
        },
        "id": "rzwVOexpGnC_",
        "outputId": "cbbbd38e-1b50-47b5-d05a-bda65cf7648b"
      },
      "execution_count": 47,
      "outputs": [
        {
          "output_type": "stream",
          "name": "stdout",
          "text": [
            "DataFrame shape: (1257, 13)\n",
            "Columns available: [('Date', ''), ('Close', 'AAPL'), ('High', 'AAPL'), ('Low', 'AAPL'), ('Open', 'AAPL'), ('Volume', 'AAPL'), ('Return', ''), ('SMA_10', ''), ('SMA_50', ''), ('RSI', ''), ('MACD', ''), ('MACD_signal', ''), ('Future_Close', '')]\n",
            "Missing features: []\n",
            "Number of rows with no NaNs in features: 1257\n",
            "Price     Return      SMA_10      SMA_50        RSI      MACD MACD_signal\n",
            "Ticker                                                                   \n",
            "0       0.001189  151.815511  151.626678  54.977008  0.000000    0.000000\n",
            "1      -0.009722  151.815511  151.626678  54.977008 -0.056320   -0.011264\n",
            "2       0.007968  151.815511  151.626678  54.977008 -0.054092   -0.019830\n",
            "3      -0.004703  151.815511  151.626678  54.977008 -0.078927   -0.031649\n",
            "4       0.016086  151.815511  151.626678  54.977008 -0.004902   -0.026300\n"
          ]
        }
      ]
    },
    {
      "cell_type": "code",
      "source": [
        "# 📌 Step 5: Drop NaNs and Define Features\n",
        "#df.dropna(inplace=True)\n",
        "\n",
        "features = ['Return', 'SMA_10', 'SMA_50', 'RSI', 'MACD', 'MACD_signal']\n",
        "scaler = StandardScaler()\n",
        "scaled_features = scaler.fit_transform(df[features])"
      ],
      "metadata": {
        "id": "7hJ4qAV15ZC9"
      },
      "execution_count": 48,
      "outputs": []
    },
    {
      "cell_type": "code",
      "source": [
        "# Create a basic trading signal based on SMA crossover\n",
        "df['Signal'] = 0\n",
        "df.loc[df['SMA_10'] > df['SMA_50'], 'Signal'] = 1\n",
        "df.loc[df['SMA_10'] < df['SMA_50'], 'Signal'] = -1\n"
      ],
      "metadata": {
        "id": "tUA-TsIoHjsf"
      },
      "execution_count": 49,
      "outputs": []
    },
    {
      "cell_type": "code",
      "source": [
        "# 📌 Step 6: Build Sequences for LSTM\n",
        "def create_sequences(X, y, window=20):\n",
        "    X_seq, y_seq = [], []\n",
        "    for i in range(window, len(X)):\n",
        "        X_seq.append(X[i-window:i])\n",
        "        y_seq.append(y[i])\n",
        "    return np.array(X_seq), np.array(y_seq)\n",
        "\n",
        "X, y = create_sequences(scaled_features, df['Signal'].values)\n",
        "\n",
        "\n"
      ],
      "metadata": {
        "id": "BpxGGZKl5ZHI"
      },
      "execution_count": 50,
      "outputs": []
    },
    {
      "cell_type": "code",
      "source": [
        "# 📌 Step 7: Train-Test Split\n",
        "split = int(0.8 * len(X))\n",
        "X_train, X_test = X[:split], X[split:]\n",
        "y_train, y_test = y[:split], y[split:]\n",
        "\n"
      ],
      "metadata": {
        "id": "nlreNB-Z-GVs"
      },
      "execution_count": 51,
      "outputs": []
    },
    {
      "cell_type": "code",
      "source": [
        "# 📌 Step 8: Build and Train LSTM Model\n",
        "model = Sequential([\n",
        "    LSTM(64, input_shape=(X.shape[1], X.shape[2]), return_sequences=False),\n",
        "    Dropout(0.2),\n",
        "    Dense(32, activation='relu'),\n",
        "    Dense(3, activation='softmax')  # 3 classes: Sell (-1), Hold (0), Buy (1)\n",
        "])\n",
        "\n",
        "model.compile(optimizer='adam', loss='sparse_categorical_crossentropy', metrics=['accuracy'])\n",
        "\n"
      ],
      "metadata": {
        "colab": {
          "base_uri": "https://localhost:8080/"
        },
        "id": "tI-SvQs8-GYa",
        "outputId": "846036df-7ee6-48f1-a859-65a56f2ff76c"
      },
      "execution_count": 52,
      "outputs": [
        {
          "output_type": "stream",
          "name": "stderr",
          "text": [
            "/usr/local/lib/python3.11/dist-packages/keras/src/layers/rnn/rnn.py:200: UserWarning: Do not pass an `input_shape`/`input_dim` argument to a layer. When using Sequential models, prefer using an `Input(shape)` object as the first layer in the model instead.\n",
            "  super().__init__(**kwargs)\n"
          ]
        }
      ]
    },
    {
      "cell_type": "code",
      "source": [
        "# Convert y to 0, 1, 2 for classification\n",
        "label_map = {-1: 0, 0: 1, 1: 2}\n",
        "y_train_mapped = np.vectorize(label_map.get)(y_train)\n",
        "y_test_mapped = np.vectorize(label_map.get)(y_test)\n",
        "\n",
        "model.fit(X_train, y_train_mapped, epochs=10, batch_size=32, validation_split=0.1)\n",
        "\n"
      ],
      "metadata": {
        "colab": {
          "base_uri": "https://localhost:8080/"
        },
        "id": "JnxlcsB--GbT",
        "outputId": "e78ff282-16d7-4830-9855-cff357f51618"
      },
      "execution_count": 53,
      "outputs": [
        {
          "output_type": "stream",
          "name": "stdout",
          "text": [
            "Epoch 1/10\n",
            "\u001b[1m28/28\u001b[0m \u001b[32m━━━━━━━━━━━━━━━━━━━━\u001b[0m\u001b[37m\u001b[0m \u001b[1m4s\u001b[0m 35ms/step - accuracy: 0.5723 - loss: 0.9414 - val_accuracy: 0.9091 - val_loss: 0.3764\n",
            "Epoch 2/10\n",
            "\u001b[1m28/28\u001b[0m \u001b[32m━━━━━━━━━━━━━━━━━━━━\u001b[0m\u001b[37m\u001b[0m \u001b[1m1s\u001b[0m 12ms/step - accuracy: 0.9223 - loss: 0.2858 - val_accuracy: 0.9394 - val_loss: 0.2005\n",
            "Epoch 3/10\n",
            "\u001b[1m28/28\u001b[0m \u001b[32m━━━━━━━━━━━━━━━━━━━━\u001b[0m\u001b[37m\u001b[0m \u001b[1m0s\u001b[0m 11ms/step - accuracy: 0.9455 - loss: 0.1461 - val_accuracy: 0.9394 - val_loss: 0.1513\n",
            "Epoch 4/10\n",
            "\u001b[1m28/28\u001b[0m \u001b[32m━━━━━━━━━━━━━━━━━━━━\u001b[0m\u001b[37m\u001b[0m \u001b[1m1s\u001b[0m 10ms/step - accuracy: 0.9539 - loss: 0.0998 - val_accuracy: 0.9495 - val_loss: 0.1337\n",
            "Epoch 5/10\n",
            "\u001b[1m28/28\u001b[0m \u001b[32m━━━━━━━━━━━━━━━━━━━━\u001b[0m\u001b[37m\u001b[0m \u001b[1m0s\u001b[0m 11ms/step - accuracy: 0.9620 - loss: 0.1098 - val_accuracy: 0.9697 - val_loss: 0.1424\n",
            "Epoch 6/10\n",
            "\u001b[1m28/28\u001b[0m \u001b[32m━━━━━━━━━━━━━━━━━━━━\u001b[0m\u001b[37m\u001b[0m \u001b[1m1s\u001b[0m 11ms/step - accuracy: 0.9749 - loss: 0.0831 - val_accuracy: 0.9596 - val_loss: 0.1141\n",
            "Epoch 7/10\n",
            "\u001b[1m28/28\u001b[0m \u001b[32m━━━━━━━━━━━━━━━━━━━━\u001b[0m\u001b[37m\u001b[0m \u001b[1m0s\u001b[0m 11ms/step - accuracy: 0.9659 - loss: 0.0891 - val_accuracy: 0.9798 - val_loss: 0.1294\n",
            "Epoch 8/10\n",
            "\u001b[1m28/28\u001b[0m \u001b[32m━━━━━━━━━━━━━━━━━━━━\u001b[0m\u001b[37m\u001b[0m \u001b[1m0s\u001b[0m 11ms/step - accuracy: 0.9784 - loss: 0.0648 - val_accuracy: 0.9697 - val_loss: 0.1448\n",
            "Epoch 9/10\n",
            "\u001b[1m28/28\u001b[0m \u001b[32m━━━━━━━━━━━━━━━━━━━━\u001b[0m\u001b[37m\u001b[0m \u001b[1m0s\u001b[0m 10ms/step - accuracy: 0.9694 - loss: 0.0871 - val_accuracy: 0.9697 - val_loss: 0.1013\n",
            "Epoch 10/10\n",
            "\u001b[1m28/28\u001b[0m \u001b[32m━━━━━━━━━━━━━━━━━━━━\u001b[0m\u001b[37m\u001b[0m \u001b[1m0s\u001b[0m 11ms/step - accuracy: 0.9756 - loss: 0.0658 - val_accuracy: 0.9697 - val_loss: 0.0993\n"
          ]
        },
        {
          "output_type": "execute_result",
          "data": {
            "text/plain": [
              "<keras.src.callbacks.history.History at 0x7e6e69689050>"
            ]
          },
          "metadata": {},
          "execution_count": 53
        }
      ]
    },
    {
      "cell_type": "code",
      "source": [
        "# 📌 Step 9: Evaluate\n",
        "y_pred_probs = model.predict(X_test)\n",
        "y_pred = np.argmax(y_pred_probs, axis=1)\n",
        "\n",
        "print(\"Classification Report:\\n\", classification_report(y_test_mapped, y_pred))\n",
        "\n"
      ],
      "metadata": {
        "colab": {
          "base_uri": "https://localhost:8080/"
        },
        "id": "wBJQoNZZ-GeY",
        "outputId": "7d766ff7-5ed5-4677-beef-c7f24de363fc"
      },
      "execution_count": 54,
      "outputs": [
        {
          "output_type": "stream",
          "name": "stdout",
          "text": [
            "\u001b[1m8/8\u001b[0m \u001b[32m━━━━━━━━━━━━━━━━━━━━\u001b[0m\u001b[37m\u001b[0m \u001b[1m0s\u001b[0m 28ms/step\n",
            "Classification Report:\n",
            "               precision    recall  f1-score   support\n",
            "\n",
            "           0       0.81      0.98      0.89        98\n",
            "           2       0.98      0.85      0.91       150\n",
            "\n",
            "    accuracy                           0.90       248\n",
            "   macro avg       0.90      0.92      0.90       248\n",
            "weighted avg       0.92      0.90      0.90       248\n",
            "\n"
          ]
        }
      ]
    },
    {
      "cell_type": "code",
      "source": [
        "# Convert predictions back to -1, 0, 1\n",
        "reverse_map = {0: -1, 1: 0, 2: 1}\n",
        "y_pred_final = np.vectorize(reverse_map.get)(y_pred)\n",
        "\n"
      ],
      "metadata": {
        "id": "eowKCQ4d-TXi"
      },
      "execution_count": 55,
      "outputs": []
    },
    {
      "cell_type": "code",
      "source": [
        "# 📌 Step 10: Backtest Strategy\n",
        "returns = df['Return'].values[-len(y_pred_final):]\n",
        "# strategy_returns = returns * y_pred_final[:-1]  # Shift predictions\n",
        "\n",
        "# cumulative_strategy = (1 + strategy_returns).cumprod()\n",
        "# cumulative_market = (1 + returns).cumprod()\n",
        "# Use today’s signal for tomorrow’s return\n",
        "strategy_returns = returns[1:] * y_pred_final[:-1]\n",
        "cumulative_strategy = (1 + strategy_returns).cumprod()\n",
        "\n",
        "# For comparison: market (buy-and-hold) strategy\n",
        "cumulative_market = (1 + returns[1:]).cumprod()\n",
        "\n",
        "\n",
        "plt.figure(figsize=(12,6))\n",
        "plt.plot(cumulative_strategy, label='LSTM Strategy')\n",
        "plt.plot(cumulative_market, label='Market (Buy & Hold)')\n",
        "plt.legend()\n",
        "plt.title(\"Backtest: Strategy vs Market\")\n",
        "plt.show()"
      ],
      "metadata": {
        "colab": {
          "base_uri": "https://localhost:8080/",
          "height": 493
        },
        "id": "O55yxwHf-Tbs",
        "outputId": "0cea4750-b955-4a18-c1d9-995bf8098214"
      },
      "execution_count": 56,
      "outputs": [
        {
          "output_type": "display_data",
          "data": {
            "text/plain": [
              "<Figure size 1200x600 with 1 Axes>"
            ],
            "image/png": "[encoded data removed]"
          },
          "metadata": {}
        }
      ]
    }
  ]
}